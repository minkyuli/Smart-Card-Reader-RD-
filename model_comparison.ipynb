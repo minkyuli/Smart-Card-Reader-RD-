{
 "cells": [
  {
   "cell_type": "code",
   "execution_count": 56,
   "id": "ffe95b07-241c-45c5-94e5-6f29aa1f5ab4",
   "metadata": {
    "tags": []
   },
   "outputs": [],
   "source": [
    "from sentence_transformers import SentenceTransformer\n",
    "import pandas as pd\n",
    "import numpy as np\n",
    "\n",
    "def calculate_similarity(sentence1, sentence2, model_name=\"all-mpnet-base-v2\"):\n",
    "    \"\"\"\n",
    "    두 문장의 유사도를 계산하는 함수\n",
    "\n",
    "    Args:\n",
    "        sentence1 (str): 첫 번째 문장\n",
    "        sentence2 (str): 두 번째 문장\n",
    "        model_name (str): 사용할 Sentence Transformer 모델 이름 (기본값: \"all-mpnet-base-v2\")\n",
    "\n",
    "    Returns:\n",
    "        float: 두 문장의 유사도 (dot product 값)\n",
    "    \"\"\"\n",
    "\n",
    "    # Sentence Transformer 모델 로드\n",
    "    model = SentenceTransformer(model_name)\n",
    "\n",
    "    # 문장 임베딩\n",
    "    embedding1 = model.encode(sentence1)\n",
    "    embedding2 = model.encode(sentence2)\n",
    "    \n",
    "\n",
    "    # dot product 계산\n",
    "    similarity = np.dot(embedding1, embedding2)\n",
    "\n",
    "    return similarity"
   ]
  },
  {
   "cell_type": "code",
   "execution_count": 74,
   "id": "ca5ee81d-ab6f-493c-9e67-c3662c6287c4",
   "metadata": {
    "tags": []
   },
   "outputs": [],
   "source": [
    "df_1 = pd.read_csv(\"results/gemini_results.csv\")\n",
    "df_2 = pd.read_csv(\"results/qwen_inference_results.csv\")"
   ]
  },
  {
   "cell_type": "code",
   "execution_count": 75,
   "id": "42ab4ff9-7eef-4cdc-9d5c-59841efb976a",
   "metadata": {
    "tags": []
   },
   "outputs": [],
   "source": [
    "df_1 = df_1[df_1.image != 'image_23.webp'].reset_index(drop=True)\n",
    "df_2_1 = df_2[(df_2.model == 'Qwen/Qwen2.5-VL-3B-Instruct') & (df_2.turn == 1)].reset_index(drop=True)\n",
    "df_2_2 = df_2[(df_2.model == 'Qwen/Qwen2.5-VL-7B-Instruct') & (df_2.turn == 1)].reset_index(drop=True)"
   ]
  },
  {
   "cell_type": "code",
   "execution_count": 112,
   "id": "a605c900-12cf-462d-a902-f9678c0d41db",
   "metadata": {
    "tags": []
   },
   "outputs": [],
   "source": [
    "similarity_score = []\n",
    "\n",
    "for i in range(len(df_1.response)):\n",
    "    similarity1 = calculate_similarity(df_1.response[i], df_2_1.response[i])\n",
    "    similarity2 = calculate_similarity(df_1.response[i], df_2_2.response[i])\n",
    "    \n",
    "    similarity_score.append([similarity1, similarity2])"
   ]
  },
  {
   "cell_type": "code",
   "execution_count": null,
   "id": "36933117-c2c0-46fc-bb12-152669252d8f",
   "metadata": {
    "tags": []
   },
   "outputs": [],
   "source": [
    "similarity_score[:5]"
   ]
  },
  {
   "cell_type": "code",
   "execution_count": null,
   "id": "9bb9a2f6-eecb-4fea-ac20-43a174652188",
   "metadata": {},
   "outputs": [],
   "source": []
  }
 ],
 "metadata": {
  "environment": {
   "kernel": "conda-base-py",
   "name": "workbench-notebooks.m128",
   "type": "gcloud",
   "uri": "us-docker.pkg.dev/deeplearning-platform-release/gcr.io/workbench-notebooks:m128"
  },
  "kernelspec": {
   "display_name": "Python 3 (ipykernel) (Local)",
   "language": "python",
   "name": "conda-base-py"
  },
  "language_info": {
   "codemirror_mode": {
    "name": "ipython",
    "version": 3
   },
   "file_extension": ".py",
   "mimetype": "text/x-python",
   "name": "python",
   "nbconvert_exporter": "python",
   "pygments_lexer": "ipython3",
   "version": "3.10.16"
  }
 },
 "nbformat": 4,
 "nbformat_minor": 5
}
